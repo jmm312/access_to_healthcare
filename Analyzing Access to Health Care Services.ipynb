{
 "cells": [
  {
   "cell_type": "markdown",
   "metadata": {},
   "source": [
    "# Analyzing Access to Health Care Services"
   ]
  },
  {
   "cell_type": "markdown",
   "metadata": {},
   "source": [
    "## Introduction"
   ]
  },
  {
   "attachments": {},
   "cell_type": "markdown",
   "metadata": {},
   "source": [
    "Access to health care services is defined as \"the timely use of personal health services to achieve the best health outcomes.\" (Millman M, 1993). Having or not having access to health care services can have a great impact on a person's physical and mental health, and consequently affect a person's quality of life. More broadly it has an effect on the public health of given society.\n",
    "\n",
    "\n",
    "\n",
    "Access to health care services requires: being able to find healthcare services within a specific geographic area, having insurance coverage, finding a good health care provider and other factors. This project will focus on studying select disparate geographic regions in the United States to discover similarities and differences as it relates to being able to access health care services. Specifically, the project will focus on answering the questions: Are there certain regions that have better access to health care services than others? What are the shared characteristics of these regions that make them have better or worse access to health care services? For example, anecdotal evidence appears to indicate low income neighborhoods often have fewer health care providers, hospitals and other health care resources than areas with higher income. This project will use available data to attempt to answer these kinds of questions more definitively.\n",
    "\n",
    "The answer to these questions would provide valuable insights to public health officials. The hope is this information would be useful in guiding policy related to expanding health care services to areas that really need it. "
   ]
  },
  {
   "cell_type": "markdown",
   "metadata": {},
   "source": [
    "## Data"
   ]
  },
  {
   "attachments": {},
   "cell_type": "markdown",
   "metadata": {},
   "source": [
    "This project will use the Foursquare API to obtain health care service provider information for a given geographic location. Specifically, the API will be queried for locations that match specific categories including: Hospitals, Doctor's Offices, Pharmacies, Dentist offices, Urgent care clinics and other medical facilities. The Foursquare data will be combined with data from the US Census Bureau. This data will be used to provide additional information on the geographic regions being studied. Data to be used includes: household income, population, race, ethnicity, age and other population demographics."
   ]
  },
  {
   "cell_type": "markdown",
   "metadata": {},
   "source": []
  }
 ],
 "metadata": {
  "kernelspec": {
   "display_name": "Python 3",
   "language": "python",
   "name": "python3"
  },
  "language_info": {
   "codemirror_mode": {
    "name": "ipython",
    "version": 3
   },
   "file_extension": ".py",
   "mimetype": "text/x-python",
   "name": "python",
   "nbconvert_exporter": "python",
   "pygments_lexer": "ipython3",
   "version": "3.7.4"
  }
 },
 "nbformat": 4,
 "nbformat_minor": 2
}
